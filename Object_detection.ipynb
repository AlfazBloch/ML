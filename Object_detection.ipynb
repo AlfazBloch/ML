{
 "cells": [
  {
   "cell_type": "code",
   "execution_count": 2,
   "id": "d037f0fd-d4f9-40f6-b102-f2a05e9ae342",
   "metadata": {},
   "outputs": [],
   "source": [
    "import cv2\n",
    "\n",
    "img = cv2.imread(\"avengers_cast.webp\")\n",
    "gray_scale = cv2.cvtColor(img,cv2.COLOR_BGR2GRAY)\n",
    "face_casecade = cv2.CascadeClassifier(\"haarcascade_frontalface_default.xml\")\n",
    "\n",
    "faces = face_casecade.detectMultiScale(gray_scale,scaleFactor=1.1,minNeighbors=4)\n",
    "\n",
    "for(x,y,w,h) in faces:\n",
    "    cv2.rectangle(img,(x,y),(x+w,y+h),(0,255,0),3)\n",
    "\n",
    "cv2.imshow(\"Face detector\",img)\n",
    "cv2.waitKey()\n",
    "cv2.destroyAllWindows()"
   ]
  },
  {
   "cell_type": "code",
   "execution_count": null,
   "id": "866389d3-c6b8-4025-a8b6-dd12da7a54b6",
   "metadata": {},
   "outputs": [],
   "source": [
    "\n",
    "cap = cv2.VideoCapture(\"abc(2).mp4\")\n",
    "\n",
    "cv2.namedWindow(\"video\",cv2.WINDOW_NORMAL)\n",
    "\n",
    "cv2.resizeWindow('video',800,600)\n",
    "\n",
    "while True:\n",
    "    ret,frame = cap.read()\n",
    "\n",
    "    if not ret:\n",
    "        break\n",
    "\n",
    "    gray_scale = cv2.cvtColor(frame,cv2.COLOR_BGR2GRAY)\n",
    "    faces = face_casecade.detectMultiScale(gray_scale,scaleFactor=1.1,minNeighbors=4)\n",
    "\n",
    "    for(x,y,w,h) in faces:\n",
    "        cv2.rectangle(frame,(x,y),(x+w,y+h),(0,255,0),3)\n",
    "        cv2.imshow(\"video\",frame)\n",
    "if cv2.waitKey(1) == 27: break\n",
    "cv2.destroyAllWindows()\n",
    "    "
   ]
  },
  {
   "cell_type": "code",
   "execution_count": null,
   "id": "1fb4cdd8-bfec-4eeb-b3f4-348eb3b3ff14",
   "metadata": {},
   "outputs": [],
   "source": []
  }
 ],
 "metadata": {
  "kernelspec": {
   "display_name": "Python 3 (ipykernel)",
   "language": "python",
   "name": "python3"
  },
  "language_info": {
   "codemirror_mode": {
    "name": "ipython",
    "version": 3
   },
   "file_extension": ".py",
   "mimetype": "text/x-python",
   "name": "python",
   "nbconvert_exporter": "python",
   "pygments_lexer": "ipython3",
   "version": "3.10.2"
  }
 },
 "nbformat": 4,
 "nbformat_minor": 5
}
