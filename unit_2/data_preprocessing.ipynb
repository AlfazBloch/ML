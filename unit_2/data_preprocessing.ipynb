{
 "cells": [
  {
   "cell_type": "code",
   "execution_count": 17,
   "id": "0e967ec3-b852-4dd4-b38e-0a1b485cd598",
   "metadata": {},
   "outputs": [
    {
     "name": "stdout",
     "output_type": "stream",
     "text": [
      "[[-4.]\n",
      " [-2.]\n",
      " [ 0.]\n",
      " [ 2.]\n",
      " [ 4.]]\n",
      "[2.82842712]\n",
      "[0.]\n",
      "[[-1.41421356]\n",
      " [-0.70710678]\n",
      " [ 0.        ]\n",
      " [ 0.70710678]\n",
      " [ 1.41421356]]\n",
      "[1.]\n",
      "[0.]\n"
     ]
    }
   ],
   "source": [
    "#Mean removal\n",
    "import numpy as np\n",
    "from sklearn import preprocessing\n",
    "data = np.array([[2],[4],[6],[8],[10]])\n",
    "\n",
    "mean = np.mean(data)\n",
    "mean_removed= data-mean\n",
    "print(mean_removed)\n",
    "print(mean_removed.std(axis=0))\n",
    "print(mean_removed.mean(axis=0))\n",
    "\n",
    "data_standardize = preprocessing.scale(data)\n",
    "print(data_standardize)\n",
    "print(data_standardize.std(axis=0))\n",
    "print(data_standardize.mean(axis=0))"
   ]
  },
  {
   "cell_type": "code",
   "execution_count": 6,
   "id": "0efbdb50-b02f-470a-a78c-6c64a4f74609",
   "metadata": {},
   "outputs": [
    {
     "name": "stdout",
     "output_type": "stream",
     "text": [
      "[55000. 75000.]\n"
     ]
    }
   ],
   "source": [
    "#Linear_regression\n",
    "from sklearn.linear_model import LinearRegression\n",
    "import numpy as np\n",
    "\n",
    "years = np.array([[1],[2],[3],[4],[5]])\n",
    "salary = np.array([30000,35000,40000,45000,50000])\n",
    "\n",
    "model = LinearRegression()\n",
    "model.fit(years,salary)\n",
    "\n",
    "predicted_salary = model.predict([[6],[10]])\n",
    "print(predicted_salary)"
   ]
  },
  {
   "cell_type": "code",
   "execution_count": 9,
   "id": "463729fb-b94b-4d87-99a7-5e42a157c8b3",
   "metadata": {},
   "outputs": [
    {
     "name": "stdout",
     "output_type": "stream",
     "text": [
      "['Mango', 'Banana', 'Apple', 'Mango', 'Orange', 'Banana']\n",
      "[2 1 0 2 3 1]\n",
      "[2 0]\n",
      "['Apple' 'Banana']\n"
     ]
    }
   ],
   "source": [
    "#label encoding\n",
    "from sklearn import preprocessing\n",
    "\n",
    "labels = ['Mango','Banana','Apple','Mango','Orange','Banana']\n",
    "print(labels)\n",
    "\n",
    "label_encoder = preprocessing.LabelEncoder()\n",
    "\n",
    "op = label_encoder.fit_transform(labels)\n",
    "\n",
    "print(op)\n",
    "\n",
    "test_labels = ['Mango','Apple']\n",
    "print(label_encoder.transform(test_labels))\n",
    "test_codes = [0,1]\n",
    "print(label_encoder.inverse_transform(test_codes))"
   ]
  },
  {
   "cell_type": "code",
   "execution_count": 11,
   "id": "7bc208b1-f1a6-45fe-98b0-ebadc05fd0ac",
   "metadata": {},
   "outputs": [
    {
     "name": "stdout",
     "output_type": "stream",
     "text": [
      "[[10000]\n",
      " [12000]\n",
      " [12600]\n",
      " [ 9000]\n",
      " [15000]]\n",
      "==================================================\n",
      "[[1]\n",
      " [1]\n",
      " [1]\n",
      " [0]\n",
      " [1]]\n"
     ]
    }
   ],
   "source": [
    "#Binarization\n",
    "\n",
    "import numpy as np\n",
    "from sklearn import preprocessing\n",
    "\n",
    "data = np.array([[10000],[12000],[12600],[9000],[15000]])\n",
    "print(data)\n",
    "print('='*50)\n",
    "binarized_data = preprocessing.Binarizer(threshold=9999).transform(data)\n",
    "print(binarized_data)"
   ]
  },
  {
   "cell_type": "code",
   "execution_count": 12,
   "id": "d7c23608-9c13-472b-8e9a-91d14b5ea563",
   "metadata": {},
   "outputs": [
    {
     "name": "stdout",
     "output_type": "stream",
     "text": [
      "[[ 3  4]\n",
      " [ 1  2]\n",
      " [ 5 12]]\n",
      "==================================================\n",
      "[[0.42857143 0.57142857]\n",
      " [0.33333333 0.66666667]\n",
      " [0.29411765 0.70588235]]\n",
      "==================================================\n",
      "[[0.6        0.8       ]\n",
      " [0.4472136  0.89442719]\n",
      " [0.38461538 0.92307692]]\n"
     ]
    }
   ],
   "source": [
    "#Normalization\n",
    "\n",
    "import numpy as np\n",
    "from sklearn import preprocessing\n",
    "\n",
    "data = np.array([[3,4],[1,2],[5,12]])\n",
    "print(data)\n",
    "print('='*50)\n",
    "\n",
    "#l1\n",
    "\n",
    "normalized_l1=preprocessing.normalize(data,norm='l1')\n",
    "normalized_l2=preprocessing.normalize(data,norm='l2')\n",
    "\n",
    "print(normalized_l1)\n",
    "print('='*50)\n",
    "print(normalized_l2)\n"
   ]
  },
  {
   "cell_type": "code",
   "execution_count": 14,
   "id": "09a35385-0dd9-4bab-943a-3b830fa65bfc",
   "metadata": {},
   "outputs": [
    {
     "name": "stdout",
     "output_type": "stream",
     "text": [
      "[[10]\n",
      " [20]\n",
      " [30]\n",
      " [40]\n",
      " [50]]\n",
      "==================================================\n",
      "[[0.  ]\n",
      " [0.25]\n",
      " [0.5 ]\n",
      " [0.75]\n",
      " [1.  ]]\n"
     ]
    }
   ],
   "source": [
    "#scaling\n",
    "import numpy as np\n",
    "from sklearn import preprocessing\n",
    "data = np.array([[10],[20],[30],[40],[50]])\n",
    "print(data)\n",
    "print('='*50)\n",
    "data_Scaler = preprocessing.MinMaxScaler(feature_range=(0,1))\n",
    "scaled_data = data_Scaler.fit_transform(data)\n",
    "print(scaled_data)"
   ]
  },
  {
   "cell_type": "code",
   "execution_count": null,
   "id": "296e9e42-e3c9-40c4-90ec-1923125da4d5",
   "metadata": {},
   "outputs": [],
   "source": []
  }
 ],
 "metadata": {
  "kernelspec": {
   "display_name": "Python 3 (ipykernel)",
   "language": "python",
   "name": "python3"
  },
  "language_info": {
   "codemirror_mode": {
    "name": "ipython",
    "version": 3
   },
   "file_extension": ".py",
   "mimetype": "text/x-python",
   "name": "python",
   "nbconvert_exporter": "python",
   "pygments_lexer": "ipython3",
   "version": "3.10.2"
  }
 },
 "nbformat": 4,
 "nbformat_minor": 5
}
