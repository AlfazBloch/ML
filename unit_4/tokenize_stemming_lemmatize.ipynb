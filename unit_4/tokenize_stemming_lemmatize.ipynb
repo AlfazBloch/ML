{
 "cells": [
  {
   "cell_type": "code",
   "execution_count": 2,
   "id": "4e53db93-7f18-4125-85b7-70fb28b8c402",
   "metadata": {},
   "outputs": [
    {
     "name": "stderr",
     "output_type": "stream",
     "text": [
      "[nltk_data] Downloading package punkt_tab to\n",
      "[nltk_data]     C:\\Users\\atmiya\\AppData\\Roaming\\nltk_data...\n",
      "[nltk_data]   Unzipping tokenizers\\punkt_tab.zip.\n"
     ]
    },
    {
     "data": {
      "text/plain": [
       "True"
      ]
     },
     "execution_count": 2,
     "metadata": {},
     "output_type": "execute_result"
    }
   ],
   "source": [
    "import nltk\n",
    "nltk.download('punkt_tab')"
   ]
  },
  {
   "cell_type": "code",
   "execution_count": 4,
   "id": "3b2baffe-42d7-4e9e-a0de-93804cf33f0c",
   "metadata": {},
   "outputs": [
    {
     "name": "stdout",
     "output_type": "stream",
     "text": [
      "[\"Hello I'm alfaz bloch.\", 'Bye']\n",
      "[\"Hello I'm alfaz bloch.Bye\"]\n"
     ]
    }
   ],
   "source": [
    "from nltk.tokenize import sent_tokenize\n",
    "\n",
    "text=\"Hello I'm alfaz bloch. Bye\"\n",
    "text1=\"Hello I'm alfaz bloch.Bye\"\n",
    "\n",
    "sent_tokenize1 = sent_tokenize(text)\n",
    "sent_tokenize2 = sent_tokenize(text1)\n",
    "\n",
    "print(sent_tokenize1)\n",
    "print(sent_tokenize2)"
   ]
  },
  {
   "cell_type": "code",
   "execution_count": 5,
   "id": "2a456cd2-fb16-4e02-b151-10a60f2d9aa1",
   "metadata": {},
   "outputs": [
    {
     "name": "stdout",
     "output_type": "stream",
     "text": [
      "['Hello', 'I', \"'m\", 'alfaz', 'bloch', '.', 'Bye']\n",
      "['Hello', 'I', \"'m\", 'alfaz', 'bloch.Bye']\n"
     ]
    }
   ],
   "source": [
    "from nltk.tokenize import word_tokenize\n",
    "\n",
    "text=\"Hello I'm alfaz bloch. Bye\"\n",
    "text1=\"Hello I'm alfaz bloch.Bye\"\n",
    "\n",
    "word_tokenize1 = word_tokenize(text)\n",
    "word_tokenize2 = word_tokenize(text1)\n",
    "\n",
    "print(word_tokenize1)\n",
    "print(word_tokenize2)"
   ]
  },
  {
   "cell_type": "code",
   "execution_count": 6,
   "id": "1c8a88dd-28a2-401a-bc78-9b9da6253583",
   "metadata": {},
   "outputs": [
    {
     "name": "stdout",
     "output_type": "stream",
     "text": [
      "['Hello', 'I', \"'\", 'm', 'alfaz', 'bloch', '.', 'Bye']\n",
      "['Hello', 'I', \"'\", 'm', 'alfaz', 'bloch', '.', 'Bye']\n"
     ]
    }
   ],
   "source": [
    "from nltk.tokenize import wordpunct_tokenize\n",
    "\n",
    "text=\"Hello I'm alfaz bloch. Bye\"\n",
    "text1=\"Hello I'm alfaz bloch.Bye\"\n",
    "\n",
    "wordpunc_tokenize1 = wordpunct_tokenize(text)\n",
    "wordpunc_tokenize2 = wordpunct_tokenize(text1)\n",
    "\n",
    "print(wordpunc_tokenize1)\n",
    "print(wordpunc_tokenize2)"
   ]
  },
  {
   "cell_type": "code",
   "execution_count": 41,
   "id": "26f6d055-f4b6-4604-99ea-2cca17258603",
   "metadata": {},
   "outputs": [
    {
     "name": "stdout",
     "output_type": "stream",
     "text": [
      "happi\n",
      "run\n",
      "runner\n",
      "watch\n",
      "argu\n",
      "argument\n",
      "meet\n"
     ]
    }
   ],
   "source": [
    "from nltk.stem import PorterStemmer\n",
    "\n",
    "words = [\"happiness\",\"running\",\"runner\",\"watche\",\"arguing\",\"argument\",\"meeting\"]\n",
    "porter = PorterStemmer()\n",
    "\n",
    "\n",
    "for i in words:\n",
    "    res = porter.stem(i)\n",
    "    print(res)"
   ]
  },
  {
   "cell_type": "code",
   "execution_count": 42,
   "id": "c807c236-545c-4b97-ae47-d47efa21c4fe",
   "metadata": {},
   "outputs": [
    {
     "name": "stdout",
     "output_type": "stream",
     "text": [
      "happi\n",
      "run\n",
      "runner\n",
      "watch\n",
      "argu\n",
      "argument\n",
      "meet\n"
     ]
    }
   ],
   "source": [
    "from nltk.stem import SnowballStemmer\n",
    "\n",
    "snow = SnowballStemmer(language=\"english\")\n",
    "\n",
    "for i in words:\n",
    "    res = snow.stem(i)\n",
    "    print(res)"
   ]
  },
  {
   "cell_type": "code",
   "execution_count": 43,
   "id": "1cc0e2a6-e07d-4fbc-a80d-811853e8d8ea",
   "metadata": {},
   "outputs": [
    {
     "name": "stdout",
     "output_type": "stream",
     "text": [
      "happy\n",
      "run\n",
      "run\n",
      "watch\n",
      "argu\n",
      "argu\n",
      "meet\n"
     ]
    }
   ],
   "source": [
    "from nltk.stem import LancasterStemmer\n",
    "\n",
    "lancaster = LancasterStemmer()\n",
    "\n",
    "for i in words:\n",
    "    res = lancaster.stem(i)\n",
    "    print(res)"
   ]
  },
  {
   "cell_type": "code",
   "execution_count": 27,
   "id": "037efd96-05c5-4cbd-b920-a54665c9221a",
   "metadata": {},
   "outputs": [
    {
     "data": {
      "application/vnd.jupyter.widget-view+json": {
       "model_id": "fcaeeab08a0c453da806c17e2c8ea6b0",
       "version_major": 2,
       "version_minor": 0
      },
      "text/plain": [
       "Downloading https://raw.githubusercontent.com/stanfordnlp/stanza-resources/main/resources_1.10.0.json:   0%|  …"
      ]
     },
     "metadata": {},
     "output_type": "display_data"
    },
    {
     "name": "stderr",
     "output_type": "stream",
     "text": [
      "2025-09-04 08:47:14 INFO: Downloaded file to C:\\Users\\atmiya\\stanza_resources\\resources.json\n",
      "2025-09-04 08:47:14 INFO: Downloading default packages for language: en (English) ...\n"
     ]
    },
    {
     "data": {
      "application/vnd.jupyter.widget-view+json": {
       "model_id": "e40459536a614aa38ad094cf397d28b3",
       "version_major": 2,
       "version_minor": 0
      },
      "text/plain": [
       "Downloading https://huggingface.co/stanfordnlp/stanza-en/resolve/v1.10.0/models/default.zip:   0%|          | …"
      ]
     },
     "metadata": {},
     "output_type": "display_data"
    },
    {
     "name": "stderr",
     "output_type": "stream",
     "text": [
      "2025-09-04 08:47:31 INFO: Downloaded file to C:\\Users\\atmiya\\stanza_resources\\en\\default.zip\n",
      "2025-09-04 08:47:35 INFO: Finished downloading models and saved to C:\\Users\\atmiya\\stanza_resources\n"
     ]
    }
   ],
   "source": [
    "import stanza\n",
    "\n",
    "stanza.download('en')"
   ]
  },
  {
   "cell_type": "code",
   "execution_count": 48,
   "id": "91361692-932e-4ac1-833a-34d2d2dd9edf",
   "metadata": {},
   "outputs": [
    {
     "name": "stderr",
     "output_type": "stream",
     "text": [
      "2025-09-04 09:17:16 INFO: Checking for updates to resources.json in case models have been updated.  Note: this behavior can be turned off with download_method=None or download_method=DownloadMethod.REUSE_RESOURCES\n"
     ]
    },
    {
     "data": {
      "application/vnd.jupyter.widget-view+json": {
       "model_id": "0022f32aaf1e48de90b469f32a09372d",
       "version_major": 2,
       "version_minor": 0
      },
      "text/plain": [
       "Downloading https://raw.githubusercontent.com/stanfordnlp/stanza-resources/main/resources_1.10.0.json:   0%|  …"
      ]
     },
     "metadata": {},
     "output_type": "display_data"
    },
    {
     "name": "stderr",
     "output_type": "stream",
     "text": [
      "2025-09-04 09:17:16 INFO: Downloaded file to C:\\Users\\atmiya\\stanza_resources\\resources.json\n",
      "2025-09-04 09:17:17 INFO: Loading these models for language: en (English):\n",
      "=================================\n",
      "| Processor | Package           |\n",
      "---------------------------------\n",
      "| tokenize  | combined          |\n",
      "| mwt       | combined          |\n",
      "| pos       | combined_charlm   |\n",
      "| lemma     | combined_nocharlm |\n",
      "=================================\n",
      "\n",
      "2025-09-04 09:17:17 INFO: Using device: cpu\n",
      "2025-09-04 09:17:17 INFO: Loading: tokenize\n",
      "2025-09-04 09:17:17 INFO: Loading: mwt\n",
      "2025-09-04 09:17:17 INFO: Loading: pos\n",
      "2025-09-04 09:17:18 INFO: Loading: lemma\n",
      "2025-09-04 09:17:19 INFO: Done loading processors!\n"
     ]
    },
    {
     "name": "stdout",
     "output_type": "stream",
     "text": [
      "in\tADP\tin\n",
      "our\tPRON\tour\n",
      "last\tADJ\tlast\n",
      "meeting\tNOUN\tmeeting\n"
     ]
    }
   ],
   "source": [
    "nlp = stanza.Pipeline(processors=\"tokenize,mwt,pos,lemma\")\n",
    "\n",
    "# text= \"Hello i'm alfaz bloch, from atmiya university\"\n",
    "text = \"in our last meeting\"\n",
    "# text = \"We are meeting again tomorrow\"\n",
    "\n",
    "result = nlp(text)\n",
    "\n",
    "for sentence in result.sentences:\n",
    "    for word in sentence.words:\n",
    "        print(f\"{word.text}\\t{word.upos}\\t{word.lemma}\")"
   ]
  },
  {
   "cell_type": "code",
   "execution_count": null,
   "id": "f5dcbb68-0e9a-40b7-9e87-fb88abfa2d0a",
   "metadata": {},
   "outputs": [],
   "source": []
  }
 ],
 "metadata": {
  "kernelspec": {
   "display_name": "Python 3 (ipykernel)",
   "language": "python",
   "name": "python3"
  },
  "language_info": {
   "codemirror_mode": {
    "name": "ipython",
    "version": 3
   },
   "file_extension": ".py",
   "mimetype": "text/x-python",
   "name": "python",
   "nbconvert_exporter": "python",
   "pygments_lexer": "ipython3",
   "version": "3.10.2"
  }
 },
 "nbformat": 4,
 "nbformat_minor": 5
}
