{
 "cells": [
  {
   "cell_type": "code",
   "execution_count": 13,
   "id": "77b4a702-2ccc-4e71-b57f-33ad95526442",
   "metadata": {},
   "outputs": [],
   "source": [
    "import sounddevice as sd\n",
    "import numpy as np\n",
    "\n",
    "duration = 1.0\n",
    "sample_rate=44100\n",
    "frequencies=[923.33,923.33,880.0,783.99,1046.50]\n",
    "\n",
    "for frequnecy in frequencies:\n",
    "    t=np.linspace(0,duration,int(sample_rate*duration),endpoint=False)\n",
    "    \n",
    "    wave = 0.5 * np.sin(2*np.pi*frequency*t)\n",
    "    \n",
    "    sd.play(wave,sample_rate)\n",
    "    \n",
    "    sd.wait()"
   ]
  },
  {
   "cell_type": "code",
   "execution_count": null,
   "id": "d3243e7d-fa15-41b1-a650-004ae474c481",
   "metadata": {},
   "outputs": [],
   "source": [
    "import librosa\n",
    "import sounddevice as sd\n",
    "from sklearn.neighbors import KNeighborsClassifier\n",
    "import numpy as np\n",
    "import soundfile as sf\n",
    "\n",
    "def extract_features(file_path):\n",
    "    y,sr = librosa.load(file_path,duration=3)\n",
    "    mfcc = librosa.feature.mfcc(y=y,sr=sr,n_mfcc=13)\n",
    "    return np.mean(mfcc.T,axis=0)\n",
    "\n",
    "train_files = {\n",
    "    'x':r\"D:\\Alfaz\\ML\\ML\\x.wav\",\n",
    "    'y':r\"D:\\Alfaz\\ML\\ML\\y.wav\"\n",
    "}\n",
    "\n",
    "x,y = [],[]\n",
    "\n",
    "for speaker,file in train_files.items():\n",
    "    features = extract_features(file)\n",
    "    x.append(speaker)\n",
    "    y.append(features)\n",
    "\n",
    "model = KNeighborsClassifier(n_neighbors=1)\n",
    "model.fit(x,y)\n",
    "duration = 3 \n",
    "print(\"speak something\")\n",
    "recording = sd.rec(int(duration*44100),samplerate=44100)"
   ]
  }
 ],
 "metadata": {
  "kernelspec": {
   "display_name": "Python 3 (ipykernel)",
   "language": "python",
   "name": "python3"
  },
  "language_info": {
   "codemirror_mode": {
    "name": "ipython",
    "version": 3
   },
   "file_extension": ".py",
   "mimetype": "text/x-python",
   "name": "python",
   "nbconvert_exporter": "python",
   "pygments_lexer": "ipython3",
   "version": "3.10.2"
  }
 },
 "nbformat": 4,
 "nbformat_minor": 5
}
